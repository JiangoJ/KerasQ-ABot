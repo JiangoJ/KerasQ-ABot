{
 "cells": [
  {
   "cell_type": "code",
   "execution_count": 2,
   "metadata": {},
   "outputs": [],
   "source": [
    "import pickle\n",
    "import numpy as np"
   ]
  },
  {
   "cell_type": "code",
   "execution_count": 3,
   "metadata": {},
   "outputs": [],
   "source": [
    "with open('train_qa.txt', 'rb') as f:\n",
    "    train_data = pickle.load(f)"
   ]
  },
  {
   "cell_type": "code",
   "execution_count": 4,
   "metadata": {},
   "outputs": [],
   "source": [
    "with open('test_qa.txt', 'rb') as f:\n",
    "    test_data = pickle.load(f)"
   ]
  },
  {
   "cell_type": "code",
   "execution_count": 5,
   "metadata": {},
   "outputs": [
    {
     "data": {
      "text/plain": [
       "list"
      ]
     },
     "execution_count": 5,
     "metadata": {},
     "output_type": "execute_result"
    }
   ],
   "source": [
    "type(test_data)"
   ]
  },
  {
   "cell_type": "code",
   "execution_count": 6,
   "metadata": {},
   "outputs": [
    {
     "data": {
      "text/plain": [
       "list"
      ]
     },
     "execution_count": 6,
     "metadata": {},
     "output_type": "execute_result"
    }
   ],
   "source": [
    "type(train_data)"
   ]
  },
  {
   "cell_type": "code",
   "execution_count": 7,
   "metadata": {},
   "outputs": [
    {
     "data": {
      "text/plain": [
       "1000"
      ]
     },
     "execution_count": 7,
     "metadata": {},
     "output_type": "execute_result"
    }
   ],
   "source": [
    "len(test_data)"
   ]
  },
  {
   "cell_type": "code",
   "execution_count": 8,
   "metadata": {},
   "outputs": [
    {
     "data": {
      "text/plain": [
       "10000"
      ]
     },
     "execution_count": 8,
     "metadata": {},
     "output_type": "execute_result"
    }
   ],
   "source": [
    "len(train_data)"
   ]
  },
  {
   "cell_type": "code",
   "execution_count": 9,
   "metadata": {},
   "outputs": [
    {
     "data": {
      "text/plain": [
       "(['Mary',\n",
       "  'moved',\n",
       "  'to',\n",
       "  'the',\n",
       "  'bathroom',\n",
       "  '.',\n",
       "  'Sandra',\n",
       "  'journeyed',\n",
       "  'to',\n",
       "  'the',\n",
       "  'bedroom',\n",
       "  '.'],\n",
       " ['Is', 'Sandra', 'in', 'the', 'hallway', '?'],\n",
       " 'no')"
      ]
     },
     "execution_count": 9,
     "metadata": {},
     "output_type": "execute_result"
    }
   ],
   "source": [
    "train_data[0]"
   ]
  },
  {
   "cell_type": "code",
   "execution_count": 10,
   "metadata": {},
   "outputs": [],
   "source": [
    "all_data = test_data + train_data"
   ]
  },
  {
   "cell_type": "code",
   "execution_count": 11,
   "metadata": {},
   "outputs": [],
   "source": [
    "vocab = set()\n",
    "\n",
    "for story, question, answer in all_data:\n",
    "    vocab = vocab.union(set(story))\n",
    "    vocab = vocab.union(set(question))"
   ]
  },
  {
   "cell_type": "code",
   "execution_count": 12,
   "metadata": {},
   "outputs": [],
   "source": [
    "vocab.add('yes')\n",
    "vocab.add('no')"
   ]
  },
  {
   "cell_type": "code",
   "execution_count": 13,
   "metadata": {},
   "outputs": [
    {
     "data": {
      "text/plain": [
       "{'.',\n",
       " '?',\n",
       " 'Daniel',\n",
       " 'Is',\n",
       " 'John',\n",
       " 'Mary',\n",
       " 'Sandra',\n",
       " 'apple',\n",
       " 'back',\n",
       " 'bathroom',\n",
       " 'bedroom',\n",
       " 'discarded',\n",
       " 'down',\n",
       " 'dropped',\n",
       " 'football',\n",
       " 'garden',\n",
       " 'got',\n",
       " 'grabbed',\n",
       " 'hallway',\n",
       " 'in',\n",
       " 'journeyed',\n",
       " 'kitchen',\n",
       " 'left',\n",
       " 'milk',\n",
       " 'moved',\n",
       " 'no',\n",
       " 'office',\n",
       " 'picked',\n",
       " 'put',\n",
       " 'the',\n",
       " 'there',\n",
       " 'to',\n",
       " 'took',\n",
       " 'travelled',\n",
       " 'up',\n",
       " 'went',\n",
       " 'yes'}"
      ]
     },
     "execution_count": 13,
     "metadata": {},
     "output_type": "execute_result"
    }
   ],
   "source": [
    "vocab"
   ]
  },
  {
   "cell_type": "code",
   "execution_count": 14,
   "metadata": {},
   "outputs": [],
   "source": [
    "vocab_len = len(vocab) + 1"
   ]
  },
  {
   "cell_type": "code",
   "execution_count": 15,
   "metadata": {},
   "outputs": [],
   "source": [
    "max_story_len = max([len(data[0]) for data in all_data])"
   ]
  },
  {
   "cell_type": "code",
   "execution_count": 18,
   "metadata": {},
   "outputs": [],
   "source": [
    "max_question_len =  max([len(data[1]) for data in all_data])"
   ]
  },
  {
   "cell_type": "code",
   "execution_count": 20,
   "metadata": {},
   "outputs": [],
   "source": [
    "from keras.preprocessing.sequence import pad_sequences\n",
    "from keras_preprocessing.text import Tokenizer"
   ]
  },
  {
   "cell_type": "code",
   "execution_count": 22,
   "metadata": {},
   "outputs": [],
   "source": [
    "tokenizer = Tokenizer(filters=[])\n",
    "tokenizer.fit_on_texts(vocab)"
   ]
  },
  {
   "cell_type": "code",
   "execution_count": 23,
   "metadata": {},
   "outputs": [
    {
     "data": {
      "text/plain": [
       "{'put': 1,\n",
       " 'office': 2,\n",
       " 'garden': 3,\n",
       " '?': 4,\n",
       " 'the': 5,\n",
       " 'apple': 6,\n",
       " 'yes': 7,\n",
       " 'no': 8,\n",
       " 'football': 9,\n",
       " 'journeyed': 10,\n",
       " 'picked': 11,\n",
       " 'mary': 12,\n",
       " 'there': 13,\n",
       " 'grabbed': 14,\n",
       " '.': 15,\n",
       " 'in': 16,\n",
       " 'took': 17,\n",
       " 'bathroom': 18,\n",
       " 'travelled': 19,\n",
       " 'john': 20,\n",
       " 'dropped': 21,\n",
       " 'back': 22,\n",
       " 'left': 23,\n",
       " 'hallway': 24,\n",
       " 'got': 25,\n",
       " 'is': 26,\n",
       " 'went': 27,\n",
       " 'to': 28,\n",
       " 'discarded': 29,\n",
       " 'up': 30,\n",
       " 'sandra': 31,\n",
       " 'down': 32,\n",
       " 'kitchen': 33,\n",
       " 'milk': 34,\n",
       " 'bedroom': 35,\n",
       " 'moved': 36,\n",
       " 'daniel': 37}"
      ]
     },
     "execution_count": 23,
     "metadata": {},
     "output_type": "execute_result"
    }
   ],
   "source": [
    "tokenizer.word_index"
   ]
  },
  {
   "cell_type": "code",
   "execution_count": 24,
   "metadata": {},
   "outputs": [],
   "source": [
    "train_story_text = []\n",
    "train_question_text = []\n",
    "train_answers = []"
   ]
  },
  {
   "cell_type": "code",
   "execution_count": 25,
   "metadata": {},
   "outputs": [],
   "source": [
    "for story, question, answer in train_data:\n",
    "    train_story_text.append(story)\n",
    "    train_question_text.append(question)\n",
    "    train_answers.append(answer)"
   ]
  },
  {
   "cell_type": "code",
   "execution_count": 28,
   "metadata": {},
   "outputs": [],
   "source": [
    "def vectorize_stories(data, word_index=tokenizer.word_index, max_story_len=max_story_len, max_question_len = max_question_len):\n",
    "    \n",
    "    #Stories\n",
    "    X=[]\n",
    "    #Questions\n",
    "    Xq=[]\n",
    "    #Correct Answer\n",
    "    Y=[]\n",
    "    \n",
    "    for story,query,answer in data:\n",
    "        \n",
    "        x = [word_index[word.lower()] for word in story]\n",
    "        xq = [word_index[word.lower()] for word in query]\n",
    "        \n",
    "        y = np.zeros(len(word_index)+1)\n",
    "        y[word_index[answer]] = 1\n",
    "        \n",
    "        X.append(x)\n",
    "        Xq.append(xq)\n",
    "        Y.append(y)\n",
    "        \n",
    "    return (pad_sequences(X, maxlen=max_story_len), pad_sequences(Xq, maxlen= max_question_len), np.array(Y))"
   ]
  },
  {
   "cell_type": "code",
   "execution_count": 29,
   "metadata": {},
   "outputs": [],
   "source": [
    "inputs_train, queries_train, answers_train = vectorize_stories(train_data)\n",
    "inputs_test, queries_test, answers_test = vectorize_stories(test_data)"
   ]
  },
  {
   "cell_type": "markdown",
   "metadata": {},
   "source": [
    "# Keras Deep Learning Portion"
   ]
  },
  {
   "cell_type": "code",
   "execution_count": 30,
   "metadata": {},
   "outputs": [],
   "source": [
    "from keras.models import Sequential, Model\n",
    "from keras.layers.embeddings import Embedding\n",
    "from keras.layers import Input, Activation, Dense, Permute, Dropout, add, dot, concatenate, LSTM"
   ]
  },
  {
   "cell_type": "code",
   "execution_count": 31,
   "metadata": {},
   "outputs": [],
   "source": [
    "input_sequence = Input((max_story_len, ))\n",
    "question = Input((max_question_len, ))"
   ]
  },
  {
   "cell_type": "code",
   "execution_count": 32,
   "metadata": {},
   "outputs": [],
   "source": [
    "vocab_size = len(vocab) + 1"
   ]
  },
  {
   "cell_type": "code",
   "execution_count": 33,
   "metadata": {},
   "outputs": [
    {
     "name": "stdout",
     "output_type": "stream",
     "text": [
      "WARNING:tensorflow:From /home/justin/miniconda3/envs/nlp_course/lib/python3.7/site-packages/tensorflow/python/ops/resource_variable_ops.py:435: colocate_with (from tensorflow.python.framework.ops) is deprecated and will be removed in a future version.\n",
      "Instructions for updating:\n",
      "Colocations handled automatically by placer.\n"
     ]
    }
   ],
   "source": [
    "input_encoder_m = Sequential()\n",
    "input_encoder_m.add(Embedding(input_dim=vocab_size, output_dim=64))\n",
    "input_encoder_m.add(Dropout(0.3))\n"
   ]
  },
  {
   "cell_type": "code",
   "execution_count": 34,
   "metadata": {},
   "outputs": [],
   "source": [
    "input_encoder_c = Sequential()\n",
    "input_encoder_c.add(Embedding(input_dim=vocab_size, output_dim=max_question_len))\n",
    "input_encoder_c.add(Dropout(0.3))\n"
   ]
  },
  {
   "cell_type": "code",
   "execution_count": 35,
   "metadata": {},
   "outputs": [],
   "source": [
    "question_encoder = Sequential()\n",
    "question_encoder.add(Embedding(input_dim=vocab_size, output_dim=64, input_length=max_question_len))\n",
    "question_encoder.add(Dropout(0.3))\n",
    "\n",
    "#OUTPUT\n",
    "#(samples, query_maxlen, embedding_dim)"
   ]
  },
  {
   "cell_type": "code",
   "execution_count": 37,
   "metadata": {},
   "outputs": [],
   "source": [
    "#Encoded <- Encoder(input)\n",
    "input_encoded_m = input_encoder_m(input_sequence)\n",
    "input_encoded_c = input_encoder_c(input_sequence)\n",
    "question_encoded = question_encoder(question)"
   ]
  },
  {
   "cell_type": "code",
   "execution_count": 38,
   "metadata": {},
   "outputs": [],
   "source": [
    "match = dot([input_encoded_m, question_encoded], axes=(2,2))\n",
    "match = Activation('softmax')(match)"
   ]
  },
  {
   "cell_type": "code",
   "execution_count": 39,
   "metadata": {},
   "outputs": [],
   "source": [
    "response = add([match, input_encoded_c])\n",
    "response = Permute((2,1))(response)"
   ]
  },
  {
   "cell_type": "code",
   "execution_count": 40,
   "metadata": {},
   "outputs": [],
   "source": [
    "answer = concatenate([response, question_encoded])"
   ]
  },
  {
   "cell_type": "code",
   "execution_count": 41,
   "metadata": {},
   "outputs": [
    {
     "data": {
      "text/plain": [
       "<tf.Tensor 'concatenate_1/concat:0' shape=(?, 6, 220) dtype=float32>"
      ]
     },
     "execution_count": 41,
     "metadata": {},
     "output_type": "execute_result"
    }
   ],
   "source": [
    "answer"
   ]
  },
  {
   "cell_type": "code",
   "execution_count": 42,
   "metadata": {},
   "outputs": [],
   "source": [
    "answer = LSTM(32)(answer)"
   ]
  },
  {
   "cell_type": "code",
   "execution_count": 43,
   "metadata": {},
   "outputs": [],
   "source": [
    "answer = Dropout(0.5)(answer)\n",
    "answer = Dense(vocab_size)(answer) #Output (samples, vocab_size)"
   ]
  },
  {
   "cell_type": "code",
   "execution_count": 44,
   "metadata": {},
   "outputs": [],
   "source": [
    "answer = Activation('softmax')(answer)"
   ]
  },
  {
   "cell_type": "code",
   "execution_count": 45,
   "metadata": {},
   "outputs": [],
   "source": [
    "model = Model([input_sequence, question], answer)"
   ]
  },
  {
   "cell_type": "code",
   "execution_count": 46,
   "metadata": {},
   "outputs": [],
   "source": [
    "model.compile(optimizer='rmsprop', loss='categorical_crossentropy', metrics=['accuracy'])"
   ]
  },
  {
   "cell_type": "code",
   "execution_count": 47,
   "metadata": {},
   "outputs": [
    {
     "name": "stdout",
     "output_type": "stream",
     "text": [
      "Model: \"model_1\"\n",
      "__________________________________________________________________________________________________\n",
      "Layer (type)                    Output Shape         Param #     Connected to                     \n",
      "==================================================================================================\n",
      "input_1 (InputLayer)            (None, 156)          0                                            \n",
      "__________________________________________________________________________________________________\n",
      "input_2 (InputLayer)            (None, 6)            0                                            \n",
      "__________________________________________________________________________________________________\n",
      "sequential_1 (Sequential)       multiple             2432        input_1[0][0]                    \n",
      "__________________________________________________________________________________________________\n",
      "sequential_3 (Sequential)       (None, 6, 64)        2432        input_2[0][0]                    \n",
      "__________________________________________________________________________________________________\n",
      "dot_1 (Dot)                     (None, 156, 6)       0           sequential_1[1][0]               \n",
      "                                                                 sequential_3[1][0]               \n",
      "__________________________________________________________________________________________________\n",
      "activation_1 (Activation)       (None, 156, 6)       0           dot_1[0][0]                      \n",
      "__________________________________________________________________________________________________\n",
      "sequential_2 (Sequential)       multiple             228         input_1[0][0]                    \n",
      "__________________________________________________________________________________________________\n",
      "add_1 (Add)                     (None, 156, 6)       0           activation_1[0][0]               \n",
      "                                                                 sequential_2[1][0]               \n",
      "__________________________________________________________________________________________________\n",
      "permute_1 (Permute)             (None, 6, 156)       0           add_1[0][0]                      \n",
      "__________________________________________________________________________________________________\n",
      "concatenate_1 (Concatenate)     (None, 6, 220)       0           permute_1[0][0]                  \n",
      "                                                                 sequential_3[1][0]               \n",
      "__________________________________________________________________________________________________\n",
      "lstm_1 (LSTM)                   (None, 32)           32384       concatenate_1[0][0]              \n",
      "__________________________________________________________________________________________________\n",
      "dropout_4 (Dropout)             (None, 32)           0           lstm_1[0][0]                     \n",
      "__________________________________________________________________________________________________\n",
      "dense_1 (Dense)                 (None, 38)           1254        dropout_4[0][0]                  \n",
      "__________________________________________________________________________________________________\n",
      "activation_2 (Activation)       (None, 38)           0           dense_1[0][0]                    \n",
      "==================================================================================================\n",
      "Total params: 38,730\n",
      "Trainable params: 38,730\n",
      "Non-trainable params: 0\n",
      "__________________________________________________________________________________________________\n"
     ]
    }
   ],
   "source": [
    "model.summary()"
   ]
  },
  {
   "cell_type": "code",
   "execution_count": 49,
   "metadata": {},
   "outputs": [
    {
     "name": "stdout",
     "output_type": "stream",
     "text": [
      "Train on 10000 samples, validate on 1000 samples\n",
      "Epoch 1/100\n",
      "10000/10000 [==============================] - 3s 283us/step - loss: 0.6958 - accuracy: 0.5000 - val_loss: 0.6933 - val_accuracy: 0.5030\n",
      "Epoch 2/100\n",
      "10000/10000 [==============================] - 3s 280us/step - loss: 0.6948 - accuracy: 0.5056 - val_loss: 0.6934 - val_accuracy: 0.5030\n",
      "Epoch 3/100\n",
      "10000/10000 [==============================] - 3s 277us/step - loss: 0.6949 - accuracy: 0.5012 - val_loss: 0.6934 - val_accuracy: 0.4910\n",
      "Epoch 4/100\n",
      "10000/10000 [==============================] - 3s 280us/step - loss: 0.6941 - accuracy: 0.5084 - val_loss: 0.6945 - val_accuracy: 0.4970\n",
      "Epoch 5/100\n",
      "10000/10000 [==============================] - 3s 283us/step - loss: 0.6948 - accuracy: 0.5009 - val_loss: 0.6963 - val_accuracy: 0.4970\n",
      "Epoch 6/100\n",
      "10000/10000 [==============================] - 3s 282us/step - loss: 0.6941 - accuracy: 0.5041 - val_loss: 0.6942 - val_accuracy: 0.4570\n",
      "Epoch 7/100\n",
      "10000/10000 [==============================] - 3s 279us/step - loss: 0.6934 - accuracy: 0.5140 - val_loss: 0.6946 - val_accuracy: 0.5050\n",
      "Epoch 8/100\n",
      "10000/10000 [==============================] - 3s 341us/step - loss: 0.6925 - accuracy: 0.5088 - val_loss: 0.6954 - val_accuracy: 0.5100\n",
      "Epoch 9/100\n",
      "10000/10000 [==============================] - 3s 323us/step - loss: 0.6807 - accuracy: 0.5525 - val_loss: 0.6812 - val_accuracy: 0.5320\n",
      "Epoch 10/100\n",
      "10000/10000 [==============================] - 3s 340us/step - loss: 0.6570 - accuracy: 0.5984 - val_loss: 0.6434 - val_accuracy: 0.6320\n",
      "Epoch 11/100\n",
      "10000/10000 [==============================] - 4s 367us/step - loss: 0.6321 - accuracy: 0.6451 - val_loss: 0.6243 - val_accuracy: 0.6510\n",
      "Epoch 12/100\n",
      "10000/10000 [==============================] - 3s 326us/step - loss: 0.6098 - accuracy: 0.6676 - val_loss: 0.5991 - val_accuracy: 0.6750\n",
      "Epoch 13/100\n",
      "10000/10000 [==============================] - 3s 319us/step - loss: 0.5960 - accuracy: 0.6840 - val_loss: 0.5893 - val_accuracy: 0.6780\n",
      "Epoch 14/100\n",
      "10000/10000 [==============================] - 3s 316us/step - loss: 0.5767 - accuracy: 0.7030 - val_loss: 0.5630 - val_accuracy: 0.7150\n",
      "Epoch 15/100\n",
      "10000/10000 [==============================] - 3s 320us/step - loss: 0.5459 - accuracy: 0.7326 - val_loss: 0.5216 - val_accuracy: 0.7500\n",
      "Epoch 16/100\n",
      "10000/10000 [==============================] - 3s 312us/step - loss: 0.5106 - accuracy: 0.7653 - val_loss: 0.5150 - val_accuracy: 0.7670\n",
      "Epoch 17/100\n",
      "10000/10000 [==============================] - 3s 319us/step - loss: 0.4761 - accuracy: 0.7933 - val_loss: 0.4449 - val_accuracy: 0.8020\n",
      "Epoch 18/100\n",
      "10000/10000 [==============================] - 3s 315us/step - loss: 0.4514 - accuracy: 0.8037 - val_loss: 0.4314 - val_accuracy: 0.8080\n",
      "Epoch 19/100\n",
      "10000/10000 [==============================] - 3s 315us/step - loss: 0.4266 - accuracy: 0.8217 - val_loss: 0.4174 - val_accuracy: 0.8350\n",
      "Epoch 20/100\n",
      "10000/10000 [==============================] - 3s 318us/step - loss: 0.4155 - accuracy: 0.8243 - val_loss: 0.4100 - val_accuracy: 0.8400\n",
      "Epoch 21/100\n",
      "10000/10000 [==============================] - 3s 316us/step - loss: 0.3989 - accuracy: 0.8369 - val_loss: 0.3982 - val_accuracy: 0.8150\n",
      "Epoch 22/100\n",
      "10000/10000 [==============================] - 3s 312us/step - loss: 0.3850 - accuracy: 0.8410 - val_loss: 0.3959 - val_accuracy: 0.8370\n",
      "Epoch 23/100\n",
      "10000/10000 [==============================] - 3s 311us/step - loss: 0.3747 - accuracy: 0.8467 - val_loss: 0.3845 - val_accuracy: 0.8230\n",
      "Epoch 24/100\n",
      "10000/10000 [==============================] - 3s 319us/step - loss: 0.3638 - accuracy: 0.8503 - val_loss: 0.3932 - val_accuracy: 0.8430\n",
      "Epoch 25/100\n",
      "10000/10000 [==============================] - 3s 315us/step - loss: 0.3587 - accuracy: 0.8531 - val_loss: 0.3900 - val_accuracy: 0.8420\n",
      "Epoch 26/100\n",
      "10000/10000 [==============================] - 3s 316us/step - loss: 0.3511 - accuracy: 0.8524 - val_loss: 0.3670 - val_accuracy: 0.8380\n",
      "Epoch 27/100\n",
      "10000/10000 [==============================] - 3s 317us/step - loss: 0.3388 - accuracy: 0.8547 - val_loss: 0.3629 - val_accuracy: 0.8360\n",
      "Epoch 28/100\n",
      "10000/10000 [==============================] - 3s 317us/step - loss: 0.3355 - accuracy: 0.8552 - val_loss: 0.3563 - val_accuracy: 0.8430\n",
      "Epoch 29/100\n",
      "10000/10000 [==============================] - 3s 315us/step - loss: 0.3334 - accuracy: 0.8581 - val_loss: 0.3610 - val_accuracy: 0.8410\n",
      "Epoch 30/100\n",
      "10000/10000 [==============================] - 3s 318us/step - loss: 0.3231 - accuracy: 0.8632 - val_loss: 0.3421 - val_accuracy: 0.8390\n",
      "Epoch 31/100\n",
      "10000/10000 [==============================] - 3s 322us/step - loss: 0.3276 - accuracy: 0.8581 - val_loss: 0.3429 - val_accuracy: 0.8390\n",
      "Epoch 32/100\n",
      "10000/10000 [==============================] - 3s 320us/step - loss: 0.3201 - accuracy: 0.8621 - val_loss: 0.3621 - val_accuracy: 0.8260\n",
      "Epoch 33/100\n",
      "10000/10000 [==============================] - 3s 317us/step - loss: 0.3158 - accuracy: 0.8613 - val_loss: 0.3437 - val_accuracy: 0.8390\n",
      "Epoch 34/100\n",
      "10000/10000 [==============================] - 3s 314us/step - loss: 0.3178 - accuracy: 0.8616 - val_loss: 0.3602 - val_accuracy: 0.8350\n",
      "Epoch 35/100\n",
      "10000/10000 [==============================] - 3s 321us/step - loss: 0.3149 - accuracy: 0.8643 - val_loss: 0.3442 - val_accuracy: 0.8400\n",
      "Epoch 36/100\n",
      "10000/10000 [==============================] - 3s 330us/step - loss: 0.3118 - accuracy: 0.8658 - val_loss: 0.3409 - val_accuracy: 0.8520\n",
      "Epoch 37/100\n",
      "10000/10000 [==============================] - 3s 327us/step - loss: 0.3078 - accuracy: 0.8633 - val_loss: 0.3466 - val_accuracy: 0.8380\n",
      "Epoch 38/100\n",
      "10000/10000 [==============================] - 3s 325us/step - loss: 0.3059 - accuracy: 0.8675 - val_loss: 0.3340 - val_accuracy: 0.8400\n",
      "Epoch 39/100\n",
      "10000/10000 [==============================] - 3s 329us/step - loss: 0.3025 - accuracy: 0.8663 - val_loss: 0.3457 - val_accuracy: 0.8400\n",
      "Epoch 40/100\n",
      "10000/10000 [==============================] - 3s 326us/step - loss: 0.3072 - accuracy: 0.8673 - val_loss: 0.3380 - val_accuracy: 0.8400\n",
      "Epoch 41/100\n",
      "10000/10000 [==============================] - 3s 323us/step - loss: 0.3015 - accuracy: 0.8694 - val_loss: 0.3415 - val_accuracy: 0.8300\n",
      "Epoch 42/100\n",
      "10000/10000 [==============================] - 3s 321us/step - loss: 0.3036 - accuracy: 0.8701 - val_loss: 0.3591 - val_accuracy: 0.8380\n",
      "Epoch 43/100\n",
      "10000/10000 [==============================] - 3s 327us/step - loss: 0.3010 - accuracy: 0.8690 - val_loss: 0.3436 - val_accuracy: 0.8400\n",
      "Epoch 44/100\n",
      "10000/10000 [==============================] - 3s 325us/step - loss: 0.3022 - accuracy: 0.8718 - val_loss: 0.3435 - val_accuracy: 0.8390\n",
      "Epoch 45/100\n",
      "10000/10000 [==============================] - 3s 322us/step - loss: 0.2969 - accuracy: 0.8731 - val_loss: 0.3494 - val_accuracy: 0.8350\n",
      "Epoch 46/100\n",
      "10000/10000 [==============================] - 3s 340us/step - loss: 0.2927 - accuracy: 0.8734 - val_loss: 0.3466 - val_accuracy: 0.8490\n",
      "Epoch 47/100\n",
      "10000/10000 [==============================] - 3s 322us/step - loss: 0.2952 - accuracy: 0.8721 - val_loss: 0.3484 - val_accuracy: 0.8410\n",
      "Epoch 48/100\n",
      "10000/10000 [==============================] - 3s 335us/step - loss: 0.2936 - accuracy: 0.8738 - val_loss: 0.3483 - val_accuracy: 0.8480\n",
      "Epoch 49/100\n",
      "10000/10000 [==============================] - 3s 334us/step - loss: 0.2932 - accuracy: 0.8720 - val_loss: 0.3743 - val_accuracy: 0.8340\n",
      "Epoch 50/100\n",
      "10000/10000 [==============================] - 3s 321us/step - loss: 0.2893 - accuracy: 0.8736 - val_loss: 0.3525 - val_accuracy: 0.8400\n",
      "Epoch 51/100\n",
      "10000/10000 [==============================] - 3s 325us/step - loss: 0.2869 - accuracy: 0.8741 - val_loss: 0.3720 - val_accuracy: 0.8330\n",
      "Epoch 52/100\n",
      "10000/10000 [==============================] - 3s 322us/step - loss: 0.2890 - accuracy: 0.8754 - val_loss: 0.3664 - val_accuracy: 0.8370\n",
      "Epoch 53/100\n",
      "10000/10000 [==============================] - 3s 323us/step - loss: 0.2895 - accuracy: 0.8727 - val_loss: 0.3670 - val_accuracy: 0.8380\n",
      "Epoch 54/100\n",
      "10000/10000 [==============================] - 3s 326us/step - loss: 0.2838 - accuracy: 0.8740 - val_loss: 0.3593 - val_accuracy: 0.8390\n",
      "Epoch 55/100\n",
      "10000/10000 [==============================] - 3s 310us/step - loss: 0.2845 - accuracy: 0.8754 - val_loss: 0.3681 - val_accuracy: 0.8350\n",
      "Epoch 56/100\n",
      "10000/10000 [==============================] - 3s 302us/step - loss: 0.2829 - accuracy: 0.8768 - val_loss: 0.3895 - val_accuracy: 0.8410\n",
      "Epoch 57/100\n",
      "10000/10000 [==============================] - 3s 305us/step - loss: 0.2796 - accuracy: 0.8796 - val_loss: 0.3922 - val_accuracy: 0.8320\n",
      "Epoch 58/100\n",
      "10000/10000 [==============================] - 3s 306us/step - loss: 0.2768 - accuracy: 0.8794 - val_loss: 0.3969 - val_accuracy: 0.8320\n",
      "Epoch 59/100\n",
      "10000/10000 [==============================] - 3s 301us/step - loss: 0.2804 - accuracy: 0.8787 - val_loss: 0.3969 - val_accuracy: 0.8300\n",
      "Epoch 60/100\n",
      "10000/10000 [==============================] - 3s 306us/step - loss: 0.2749 - accuracy: 0.8783 - val_loss: 0.3930 - val_accuracy: 0.8380\n",
      "Epoch 61/100\n",
      "10000/10000 [==============================] - 3s 304us/step - loss: 0.2739 - accuracy: 0.8802 - val_loss: 0.3719 - val_accuracy: 0.8360\n",
      "Epoch 62/100\n",
      "10000/10000 [==============================] - 3s 306us/step - loss: 0.2770 - accuracy: 0.8796 - val_loss: 0.3773 - val_accuracy: 0.8400\n",
      "Epoch 63/100\n",
      "10000/10000 [==============================] - 3s 303us/step - loss: 0.2710 - accuracy: 0.8827 - val_loss: 0.4051 - val_accuracy: 0.8280\n",
      "Epoch 64/100\n",
      "10000/10000 [==============================] - 3s 303us/step - loss: 0.2661 - accuracy: 0.8848 - val_loss: 0.3829 - val_accuracy: 0.8370\n",
      "Epoch 65/100\n",
      "10000/10000 [==============================] - 3s 306us/step - loss: 0.2664 - accuracy: 0.8836 - val_loss: 0.3958 - val_accuracy: 0.8290\n",
      "Epoch 66/100\n",
      "10000/10000 [==============================] - 3s 304us/step - loss: 0.2643 - accuracy: 0.8848 - val_loss: 0.3968 - val_accuracy: 0.8380\n",
      "Epoch 67/100\n",
      "10000/10000 [==============================] - 3s 303us/step - loss: 0.2677 - accuracy: 0.8837 - val_loss: 0.3998 - val_accuracy: 0.8320\n",
      "Epoch 68/100\n",
      "10000/10000 [==============================] - 3s 306us/step - loss: 0.2633 - accuracy: 0.8870 - val_loss: 0.4010 - val_accuracy: 0.8300\n",
      "Epoch 69/100\n",
      "10000/10000 [==============================] - 3s 312us/step - loss: 0.2676 - accuracy: 0.8862 - val_loss: 0.4142 - val_accuracy: 0.8310\n",
      "Epoch 70/100\n",
      "10000/10000 [==============================] - 3s 303us/step - loss: 0.2594 - accuracy: 0.8866 - val_loss: 0.4063 - val_accuracy: 0.8320\n",
      "Epoch 71/100\n",
      "10000/10000 [==============================] - 3s 314us/step - loss: 0.2592 - accuracy: 0.8889 - val_loss: 0.4098 - val_accuracy: 0.8320\n",
      "Epoch 72/100\n",
      "10000/10000 [==============================] - 3s 304us/step - loss: 0.2577 - accuracy: 0.8889 - val_loss: 0.4160 - val_accuracy: 0.8260\n",
      "Epoch 73/100\n",
      "10000/10000 [==============================] - 3s 306us/step - loss: 0.2571 - accuracy: 0.8894 - val_loss: 0.4054 - val_accuracy: 0.8200\n",
      "Epoch 74/100\n",
      "10000/10000 [==============================] - 3s 307us/step - loss: 0.2544 - accuracy: 0.8919 - val_loss: 0.4253 - val_accuracy: 0.8300\n",
      "Epoch 75/100\n",
      "10000/10000 [==============================] - 3s 306us/step - loss: 0.2564 - accuracy: 0.8894 - val_loss: 0.4252 - val_accuracy: 0.8320\n",
      "Epoch 76/100\n",
      "10000/10000 [==============================] - 3s 304us/step - loss: 0.2571 - accuracy: 0.8919 - val_loss: 0.4321 - val_accuracy: 0.8300\n",
      "Epoch 77/100\n",
      "10000/10000 [==============================] - 3s 308us/step - loss: 0.2498 - accuracy: 0.8932 - val_loss: 0.4203 - val_accuracy: 0.8310\n",
      "Epoch 78/100\n",
      "10000/10000 [==============================] - 3s 305us/step - loss: 0.2546 - accuracy: 0.8900 - val_loss: 0.4402 - val_accuracy: 0.8340\n",
      "Epoch 79/100\n",
      "10000/10000 [==============================] - 3s 307us/step - loss: 0.2501 - accuracy: 0.8916 - val_loss: 0.4451 - val_accuracy: 0.8250\n",
      "Epoch 80/100\n",
      "10000/10000 [==============================] - 3s 306us/step - loss: 0.2482 - accuracy: 0.8956 - val_loss: 0.4557 - val_accuracy: 0.8100\n",
      "Epoch 81/100\n",
      "10000/10000 [==============================] - 3s 309us/step - loss: 0.2476 - accuracy: 0.8933 - val_loss: 0.4333 - val_accuracy: 0.8240\n",
      "Epoch 82/100\n",
      "10000/10000 [==============================] - 3s 312us/step - loss: 0.2467 - accuracy: 0.8934 - val_loss: 0.4458 - val_accuracy: 0.8230\n",
      "Epoch 83/100\n",
      "10000/10000 [==============================] - 3s 305us/step - loss: 0.2493 - accuracy: 0.8928 - val_loss: 0.4658 - val_accuracy: 0.8300\n",
      "Epoch 84/100\n",
      "10000/10000 [==============================] - 3s 312us/step - loss: 0.2496 - accuracy: 0.8925 - val_loss: 0.4316 - val_accuracy: 0.8330\n",
      "Epoch 85/100\n",
      "10000/10000 [==============================] - 3s 307us/step - loss: 0.2472 - accuracy: 0.8971 - val_loss: 0.4348 - val_accuracy: 0.8310\n",
      "Epoch 86/100\n",
      "10000/10000 [==============================] - 3s 306us/step - loss: 0.2396 - accuracy: 0.8991 - val_loss: 0.4655 - val_accuracy: 0.8180\n",
      "Epoch 87/100\n",
      "10000/10000 [==============================] - 3s 305us/step - loss: 0.2374 - accuracy: 0.8999 - val_loss: 0.4641 - val_accuracy: 0.8350\n",
      "Epoch 88/100\n",
      "10000/10000 [==============================] - 3s 317us/step - loss: 0.2375 - accuracy: 0.9007 - val_loss: 0.4819 - val_accuracy: 0.8340\n",
      "Epoch 89/100\n",
      "10000/10000 [==============================] - 3s 308us/step - loss: 0.2437 - accuracy: 0.8955 - val_loss: 0.4729 - val_accuracy: 0.8180\n",
      "Epoch 90/100\n",
      "10000/10000 [==============================] - 3s 311us/step - loss: 0.2416 - accuracy: 0.8973 - val_loss: 0.4617 - val_accuracy: 0.8120\n",
      "Epoch 91/100\n",
      "10000/10000 [==============================] - 3s 315us/step - loss: 0.2362 - accuracy: 0.9019 - val_loss: 0.4790 - val_accuracy: 0.8230\n",
      "Epoch 92/100\n",
      "10000/10000 [==============================] - 3s 312us/step - loss: 0.2354 - accuracy: 0.9000 - val_loss: 0.4869 - val_accuracy: 0.8260\n",
      "Epoch 93/100\n",
      "10000/10000 [==============================] - 3s 311us/step - loss: 0.2329 - accuracy: 0.9014 - val_loss: 0.4737 - val_accuracy: 0.8130\n",
      "Epoch 94/100\n",
      "10000/10000 [==============================] - 3s 312us/step - loss: 0.2332 - accuracy: 0.9035 - val_loss: 0.4842 - val_accuracy: 0.8250\n",
      "Epoch 95/100\n",
      "10000/10000 [==============================] - 3s 308us/step - loss: 0.2326 - accuracy: 0.9015 - val_loss: 0.5140 - val_accuracy: 0.8240\n",
      "Epoch 96/100\n",
      "10000/10000 [==============================] - 3s 309us/step - loss: 0.2356 - accuracy: 0.9015 - val_loss: 0.4812 - val_accuracy: 0.8110\n",
      "Epoch 97/100\n",
      "10000/10000 [==============================] - 3s 313us/step - loss: 0.2281 - accuracy: 0.9022 - val_loss: 0.5112 - val_accuracy: 0.8140\n",
      "Epoch 98/100\n",
      "10000/10000 [==============================] - 3s 307us/step - loss: 0.2338 - accuracy: 0.9052 - val_loss: 0.4679 - val_accuracy: 0.8250\n",
      "Epoch 99/100\n",
      "10000/10000 [==============================] - 3s 308us/step - loss: 0.2277 - accuracy: 0.9017 - val_loss: 0.5312 - val_accuracy: 0.8060\n",
      "Epoch 100/100\n",
      "10000/10000 [==============================] - 3s 309us/step - loss: 0.2251 - accuracy: 0.9044 - val_loss: 0.5348 - val_accuracy: 0.8260\n"
     ]
    }
   ],
   "source": [
    "history = model.fit([inputs_train, queries_train], answers_train, batch_size=32, epochs=100, validation_data=([inputs_test, queries_test], answers_test))"
   ]
  },
  {
   "cell_type": "code",
   "execution_count": 76,
   "metadata": {},
   "outputs": [],
   "source": [
    "filename = 'chatbot_100_epochs.h5'\n",
    "model.save(filename)\n",
    "\n",
    "pickle.dump(tokenizer, open('bot_tokenizer', 'wb'))"
   ]
  },
  {
   "cell_type": "code",
   "execution_count": 52,
   "metadata": {},
   "outputs": [
    {
     "name": "stdout",
     "output_type": "stream",
     "text": [
      "dict_keys(['val_loss', 'val_accuracy', 'loss', 'accuracy'])\n"
     ]
    },
    {
     "data": {
      "image/png": "[encoded data removed]",
      "text/plain": [
       "<Figure size 432x288 with 1 Axes>"
      ]
     },
     "metadata": {
      "needs_background": "light"
     },
     "output_type": "display_data"
    }
   ],
   "source": [
    "import matplotlib.pyplot as plt\n",
    "%matplotlib inline\n",
    "print(history.history.keys())\n",
    "# summarize history for accuracy\n",
    "plt.plot(history.history['accuracy'])\n",
    "plt.plot(history.history['val_accuracy'])\n",
    "plt.title('model accuracy')\n",
    "plt.ylabel('accuracy')\n",
    "plt.xlabel('epoch')\n",
    "plt.legend(['train', 'test'], loc='upper left')\n",
    "plt.show()"
   ]
  },
  {
   "cell_type": "code",
   "execution_count": 53,
   "metadata": {},
   "outputs": [],
   "source": [
    "model.load_weights('chatbot_100_epochs.h5')"
   ]
  },
  {
   "cell_type": "code",
   "execution_count": 54,
   "metadata": {},
   "outputs": [],
   "source": [
    "pred_results = model.predict(([inputs_test,queries_test]))"
   ]
  },
  {
   "cell_type": "code",
   "execution_count": 55,
   "metadata": {},
   "outputs": [],
   "source": [
    "#Returns the index of the word with the highest probability\n",
    "val_max = np.argmax(pred_results[0])"
   ]
  },
  {
   "cell_type": "code",
   "execution_count": 56,
   "metadata": {},
   "outputs": [],
   "source": [
    "for key, val in tokenizer.word_index.items():\n",
    "    if val == val_max:\n",
    "        k = key"
   ]
  },
  {
   "cell_type": "code",
   "execution_count": 61,
   "metadata": {},
   "outputs": [
    {
     "data": {
      "text/plain": [
       "'Mary got the milk there . John moved to the bedroom .'"
      ]
     },
     "execution_count": 61,
     "metadata": {},
     "output_type": "execute_result"
    }
   ],
   "source": [
    "' '.join(test_data[0][0])"
   ]
  },
  {
   "cell_type": "code",
   "execution_count": 62,
   "metadata": {},
   "outputs": [
    {
     "data": {
      "text/plain": [
       "'Is John in the kitchen ?'"
      ]
     },
     "execution_count": 62,
     "metadata": {},
     "output_type": "execute_result"
    }
   ],
   "source": [
    "' '.join(test_data[0][1])"
   ]
  },
  {
   "cell_type": "code",
   "execution_count": 57,
   "metadata": {},
   "outputs": [
    {
     "data": {
      "text/plain": [
       "'no'"
      ]
     },
     "execution_count": 57,
     "metadata": {},
     "output_type": "execute_result"
    }
   ],
   "source": [
    "#Model's prediction for question index 0\n",
    "k"
   ]
  },
  {
   "cell_type": "code",
   "execution_count": 63,
   "metadata": {},
   "outputs": [
    {
     "data": {
      "text/plain": [
       "0.9999459"
      ]
     },
     "execution_count": 63,
     "metadata": {},
     "output_type": "execute_result"
    }
   ],
   "source": [
    "#How sure the model is \n",
    "pred_results[0][val_max]"
   ]
  },
  {
   "cell_type": "markdown",
   "metadata": {},
   "source": [
    "# Create Your Own Question\n",
    "Keep in mind, you can only use words from the existing vocab"
   ]
  },
  {
   "cell_type": "code",
   "execution_count": 64,
   "metadata": {},
   "outputs": [],
   "source": [
    "my_story = \"John left the kitchen . Sandra dropped the football in the garden .\""
   ]
  },
  {
   "cell_type": "code",
   "execution_count": 65,
   "metadata": {},
   "outputs": [
    {
     "data": {
      "text/plain": [
       "['John',\n",
       " 'left',\n",
       " 'the',\n",
       " 'kitchen',\n",
       " '.',\n",
       " 'Sandra',\n",
       " 'dropped',\n",
       " 'the',\n",
       " 'football',\n",
       " 'in',\n",
       " 'the',\n",
       " 'garden',\n",
       " '.']"
      ]
     },
     "execution_count": 65,
     "metadata": {},
     "output_type": "execute_result"
    }
   ],
   "source": [
    "my_story.split()"
   ]
  },
  {
   "cell_type": "code",
   "execution_count": 66,
   "metadata": {},
   "outputs": [
    {
     "data": {
      "text/plain": [
       "['Is', 'the', 'football', 'in', 'the', 'garden', '?']"
      ]
     },
     "execution_count": 66,
     "metadata": {},
     "output_type": "execute_result"
    }
   ],
   "source": [
    "my_question = \"Is the football in the garden ?\"\n",
    "my_question.split()"
   ]
  },
  {
   "cell_type": "code",
   "execution_count": 67,
   "metadata": {},
   "outputs": [],
   "source": [
    "mydata = [(my_story.split(), my_question.split(), 'yes')]"
   ]
  },
  {
   "cell_type": "code",
   "execution_count": 68,
   "metadata": {},
   "outputs": [],
   "source": [
    "my_story, my_ques, my_ans = vectorize_stories(mydata)"
   ]
  },
  {
   "cell_type": "code",
   "execution_count": 69,
   "metadata": {},
   "outputs": [],
   "source": [
    "pred_results = model.predict(([my_story, my_ques]))"
   ]
  },
  {
   "cell_type": "code",
   "execution_count": 70,
   "metadata": {},
   "outputs": [],
   "source": [
    "val_max = np.argmax(pred_results[0])"
   ]
  },
  {
   "cell_type": "code",
   "execution_count": 71,
   "metadata": {},
   "outputs": [],
   "source": [
    "for key, val in tokenizer.word_index.items():\n",
    "    if val == val_max:\n",
    "        k = key"
   ]
  },
  {
   "cell_type": "code",
   "execution_count": 73,
   "metadata": {},
   "outputs": [
    {
     "data": {
      "text/plain": [
       "'yes'"
      ]
     },
     "execution_count": 73,
     "metadata": {},
     "output_type": "execute_result"
    }
   ],
   "source": [
    "k"
   ]
  },
  {
   "cell_type": "code",
   "execution_count": 74,
   "metadata": {},
   "outputs": [
    {
     "data": {
      "text/plain": [
       "0.98735833"
      ]
     },
     "execution_count": 74,
     "metadata": {},
     "output_type": "execute_result"
    }
   ],
   "source": [
    "pred_results[0][val_max]"
   ]
  }
 ],
 "metadata": {
  "kernelspec": {
   "display_name": "Python 3",
   "language": "python",
   "name": "python3"
  },
  "language_info": {
   "codemirror_mode": {
    "name": "ipython",
    "version": 3
   },
   "file_extension": ".py",
   "mimetype": "text/x-python",
   "name": "python",
   "nbconvert_exporter": "python",
   "pygments_lexer": "ipython3",
   "version": "3.7.7"
  }
 },
 "nbformat": 4,
 "nbformat_minor": 4
}
